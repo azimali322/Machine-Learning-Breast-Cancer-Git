{
 "cells": [
  {
   "cell_type": "code",
   "execution_count": 3,
   "metadata": {
    "colab": {},
    "colab_type": "code",
    "id": "1Rg2uSiFSRJe",
    "pycharm": {
     "name": "#%%\n"
    }
   },
   "outputs": [],
   "source": [
    "import numpy as np\n",
    "import matplotlib.pyplot as plt\n",
    "import sklearn.linear_model as sk_lm\n",
    "import time"
   ]
  },
  {
   "cell_type": "markdown",
   "metadata": {
    "colab_type": "text",
    "id": "oDTSO7-MSRJj",
    "pycharm": {
     "name": "#%% md\n"
    }
   },
   "source": [
    "# Part 1: Comparing Stochastic gradient descent, gradient descent, and logistic regression against each other"
   ]
  },
  {
   "cell_type": "markdown",
   "metadata": {
    "colab_type": "text",
    "id": "Tx7KW28cSRJk",
    "pycharm": {
     "name": "#%% md\n"
    }
   },
   "source": [
    "## Dataset Generation: Generate a training random set (with m number of covariates and an m-sized weight vector) the compare the models can use to compare against each other."
   ]
  },
  {
   "cell_type": "code",
   "execution_count": 4,
   "metadata": {
    "colab": {},
    "colab_type": "code",
    "id": "AUHuXrsgSRJl",
    "pycharm": {
     "name": "#%%\n"
    }
   },
   "outputs": [],
   "source": [
    "FIGSIZE = (12,8)\n",
    "def sigmoid(x): # sigmoid function math\n",
    "    sig = 1 / (1 + np.exp(-x))\n",
    "    return sig\n",
    "\n",
    "def generate_data(m):\n",
    "    # Initialize x and y\n",
    "    x = np.zeros((m,10)) # x_i vector is 1 vector of 10 weight elements.\n",
    "    y = np.zeros((m,1)) # y_i vector is only 1 element {0,1}.\n",
    "    # Initialize weights\n",
    "    weights = np.random.normal(loc= 0, scale= 1, size = 10)\n",
    "    # Normalize the weights vector by dividing by the norm of the weights.\n",
    "    weights = weights / np.linalg.norm(weights)\n",
    "\n",
    "    for i in range(m):\n",
    "        x[i] = np.random.normal(loc= 0, scale= 1, size = 10)\n",
    "        dot_prod = weights.dot(x[i]) # get the dot product of the weights and x_i vectors and then\n",
    "        sigmoid_fn = sigmoid(dot_prod) # put output through sigmoid function\n",
    "        prob = [1-sigmoid_fn, sigmoid_fn] # list of probabilities for a 0 and 1.\n",
    "        y[i] = np.random.choice([0, 1], p = prob) # select a random value of 0 or 1 with sigmoid probability (or inverse sigmoid probability).\n",
    "    # returns the true w as well as X, Y data\n",
    "    return weights, x, y"
   ]
  },
  {
   "cell_type": "markdown",
   "metadata": {
    "colab_type": "text",
    "id": "wx2-15fASRJy",
    "pycharm": {
     "name": "#%% md\n"
    }
   },
   "source": [
    "## Algorithm 1: logistic regression `sklearn.linear_model` function\n",
    "\n",
    "The goal is to learn $w$.  Algorithm 1 is logistic\n",
    "  regression."
   ]
  },
  {
   "cell_type": "code",
   "execution_count": 5,
   "metadata": {
    "colab": {},
    "colab_type": "code",
    "id": "Vj8b21jgSRJz",
    "pycharm": {
     "name": "#%%\n"
    }
   },
   "outputs": [],
   "source": [
    "def logistic_weight_pred(x, y):\n",
    "    clf = sk_lm.LogisticRegression(max_iter = 1000).fit(x, y.ravel()) # Fit the model according to the given training data.\n",
    "    return clf.coef_ # coef_ndarray of shape (1, n_features) or (n_classes, n_features)\n",
    "    # Coefficient of the features in the decision function this is based on the estimate from logistic model."
   ]
  },
  {
   "cell_type": "markdown",
   "metadata": {
    "colab_type": "text",
    "id": "YzmNdy6ZSRJ3",
    "pycharm": {
     "name": "#%% md\n"
    }
   },
   "source": [
    "## Algorithm 2: gradient descent with square loss\n",
    "\n",
    "Algorithm 2 is gradient descent with respect to square loss."
   ]
  },
  {
   "cell_type": "markdown",
   "source": [
    "Getting the derivative of the square loss function results in the following function after applying the chain rule:\n",
    "$$\\frac{\\delta}{\\delta t} L_i(w^{(t)}) = [(\\sigma (wx_i) - y_i)] \\sigma (wx_i) (1-\\sigma (wx_i))x_i$$"
   ],
   "metadata": {
    "collapsed": false,
    "pycharm": {
     "name": "#%% md\n"
    }
   }
  },
  {
   "cell_type": "code",
   "execution_count": 6,
   "outputs": [],
   "source": [
    "def delta_loss_fn(x_i, y_i, weights):\n",
    "    \"\"\"\n",
    "    calculate delta loss function for each x_i and y_iw\n",
    "    \"\"\"\n",
    "    dot_prod = weights.dot(x_i)\n",
    "    y_prob = sigmoid(dot_prod)\n",
    "    delta_loss = (y_prob - y_i) * y_prob * (1 - y_prob) * x_i # Use chain rule delta loss equation derived above.\n",
    "    return delta_loss\n",
    "\n",
    "def gradient_desc(x, y, iter = 1000, step_size = 0.01):\n",
    "    \"\"\"\n",
    "     Algorithm 2 is gradient descent where you train a model of the form σ(w0·x) (with parameter w0)\n",
    "     with respect to square loss, i.e. the loss function is 1/2(σ(w0·x) − y)^2,\n",
    "     averaged over the points in the training set\n",
    "     (code this up yourself, including calculating the gradient).\n",
    "    \"\"\"\n",
    "    weights = np.zeros(x.shape[1]) # initialize weights vector as a zeros vector on the length of the first x vector\n",
    "    for i in range(iter): # iterate 1000 times\n",
    "        delta_loss_list = [] # initialize a list of delta losses for each point that is iterated on in this algo.\n",
    "        for m in range(x.shape[0]): # iterate through all m training points\n",
    "            delta_loss = delta_loss_fn(x[m], y[m], weights)\n",
    "            delta_loss_list.append(delta_loss)\n",
    "        gradient_mean = np.mean(delta_loss_list, axis= 0) # get mean of delta_loss_list\n",
    "        weights = weights - step_size * gradient_mean # multiply step_size with gradient_mean and update weights\n",
    "    return weights"
   ],
   "metadata": {
    "collapsed": false,
    "pycharm": {
     "name": "#%%\n"
    }
   }
  },
  {
   "cell_type": "markdown",
   "metadata": {
    "pycharm": {
     "name": "#%% md\n"
    }
   },
   "source": [
    "## Algorithm 3: stochastic gradient descent with square loss\n",
    "Similar to gradient descent, except we use the gradient at a single random training point every iteration."
   ]
  },
  {
   "cell_type": "code",
   "execution_count": 7,
   "metadata": {
    "pycharm": {
     "name": "#%%\n"
    }
   },
   "outputs": [],
   "source": [
    "def stochastic_desc(x, y, iter = 1000, step_size = 0.01):\n",
    "    \"\"\"\n",
    "    Algorithm 3 is stochastic gradient descent again with respect to square loss,\n",
    "    where during each iteration we use the gradient at one random point from the training set.\n",
    "    \"\"\"\n",
    "    weights = np.zeros(x.shape[1]) # initialize weights vector as a zeros vector on the length of the first x vector\n",
    "    for i in range(iter):\n",
    "        random_selection = np.random.randint(0, x.shape[0]) # randomly select a datapoint in the training set\n",
    "        delta_loss = delta_loss_fn(x[random_selection], y[random_selection], weights)\n",
    "        weights = weights - step_size * delta_loss # multiply step_size and update weights\n",
    "    return weights"
   ]
  },
  {
   "cell_type": "markdown",
   "metadata": {
    "colab_type": "text",
    "id": "5A-dLi3TSRJ-",
    "pycharm": {
     "name": "#%% md\n"
    }
   },
   "source": [
    "I measured error for each method at different sample size. Finally, I have plotted the results for each algorithm as I make $m$ large (use $m=50, 100, 150, 200, 250$). Also I record the time taken to run each experiment."
   ]
  },
  {
   "cell_type": "code",
   "execution_count": 8,
   "metadata": {
    "pycharm": {
     "name": "#%%\n"
    }
   },
   "outputs": [
    {
     "name": "stdout",
     "output_type": "stream",
     "text": [
      "Time taken to run logistic evaluation test is 0.250291109085083  seconds.\n"
     ]
    }
   ],
   "source": [
    "# Test logistic algo first\n",
    "m = [50, 100, 150, 200, 250] # training set sizes to test\n",
    "\n",
    "start = time.time()\n",
    "error_in_logistic_trial_size = [] # initialize error for different sample sizes\n",
    "for t_size in m:\n",
    "    repeated_error_for_trial_size = [] # initialize error for different sample sizes\n",
    "    for repeat in range(10):\n",
    "        weights, x , y = generate_data(t_size)\n",
    "        weights_pred = logistic_weight_pred(x, y)\n",
    "        diff = np.linalg.norm(weights - weights_pred)\n",
    "        repeated_error_for_trial_size.append(diff)\n",
    "    error_in_logistic_trial_size.append(np.mean(repeated_error_for_trial_size)) # get mean error of 10 tests.\n",
    "end = time.time()\n",
    "experiment_time = end - start\n",
    "print(\"Time taken to run logistic evaluation test is\", experiment_time, \" seconds.\")\n"
   ]
  },
  {
   "cell_type": "code",
   "execution_count": 9,
   "outputs": [
    {
     "name": "stdout",
     "output_type": "stream",
     "text": [
      "Time taken to run gradient descent evaluation test is 64.48376679420471  seconds.\n"
     ]
    }
   ],
   "source": [
    "# Test gradient descent algo second\n",
    "m = [50, 100, 150, 200, 250] # training set sizes to test\n",
    "\n",
    "start = time.time()\n",
    "error_in_gradient_descent_trial_size = [] # initialize error for different sample sizes\n",
    "for t_size in m:\n",
    "    repeated_error_for_trial_size = [] # initialize error for different sample sizes\n",
    "    for repeat in range(10):\n",
    "        weights, x , y = generate_data(t_size)\n",
    "        weights_pred = gradient_desc(x, y)\n",
    "        diff = np.linalg.norm(weights - weights_pred)\n",
    "        repeated_error_for_trial_size.append(diff)\n",
    "    error_in_gradient_descent_trial_size.append(np.mean(repeated_error_for_trial_size)) # get mean error of 10 tests.\n",
    "end = time.time()\n",
    "experiment_time = end - start\n",
    "print(\"Time taken to run gradient descent evaluation test is\", experiment_time, \" seconds.\")\n"
   ],
   "metadata": {
    "collapsed": false,
    "pycharm": {
     "name": "#%%\n"
    }
   }
  },
  {
   "cell_type": "code",
   "execution_count": 10,
   "outputs": [
    {
     "name": "stdout",
     "output_type": "stream",
     "text": [
      "Time taken to run stochastic gradient descent evaluation test is 0.7977478504180908  seconds.\n"
     ]
    }
   ],
   "source": [
    "# Test stochastic gradient descent algo last\n",
    "m = [50, 100, 150, 200, 250] # training set sizes to test\n",
    "\n",
    "start = time.time()\n",
    "error_in_stochastic_gradient_trial_size = [] # initialize error for different sample sizes\n",
    "for t_size in m:\n",
    "    repeated_error_for_trial_size = [] # initialize error for different sample sizes\n",
    "    for repeat in range(10):\n",
    "        weights, x , y = generate_data(t_size)\n",
    "        weights_pred = stochastic_desc(x, y)\n",
    "        diff = np.linalg.norm(weights - weights_pred)\n",
    "        repeated_error_for_trial_size.append(diff)\n",
    "    error_in_stochastic_gradient_trial_size.append(np.mean(repeated_error_for_trial_size)) # get mean error of 10 tests.\n",
    "end = time.time()\n",
    "experiment_time = end - start\n",
    "print(\"Time taken to run stochastic gradient descent evaluation test is\", experiment_time, \" seconds.\")\n"
   ],
   "metadata": {
    "collapsed": false,
    "pycharm": {
     "name": "#%%\n"
    }
   }
  },
  {
   "cell_type": "code",
   "execution_count": 11,
   "outputs": [
    {
     "data": {
      "text/plain": "<Figure size 864x576 with 1 Axes>",
      "image/png": "[encoded data removed]"
     },
     "metadata": {
      "needs_background": "light"
     },
     "output_type": "display_data"
    }
   ],
   "source": [
    "plt.figure(figsize = FIGSIZE)\n",
    "plt.scatter(m, error_in_logistic_trial_size)\n",
    "plt.scatter(m, error_in_gradient_descent_trial_size)\n",
    "plt.scatter(m, error_in_stochastic_gradient_trial_size)\n",
    "plt.plot(m, error_in_logistic_trial_size, label = \"Logistic regression\")\n",
    "plt.plot(m, error_in_gradient_descent_trial_size, label = \"Gradient Descent Algorithm\")\n",
    "plt.plot(m, error_in_stochastic_gradient_trial_size, label = \"Stochastic Gradient Descent Algorithm\")\n",
    "\n",
    "plt.title(\"Figure 1. Comparing the three algorithms on errors at different sample sizes.\")\n",
    "plt.xlabel(\"Sample Size, m\")\n",
    "plt.ylabel(\"Error\")\n",
    "plt.legend()\n",
    "plt.show()"
   ],
   "metadata": {
    "collapsed": false,
    "pycharm": {
     "name": "#%%\n"
    }
   }
  },
  {
   "cell_type": "markdown",
   "metadata": {
    "pycharm": {
     "name": "#%% md\n"
    }
   },
   "source": [
    "# Part 2: AdaBoost Classifier on Breast Cancer Data"
   ]
  },
  {
   "cell_type": "code",
   "execution_count": 12,
   "metadata": {
    "pycharm": {
     "name": "#%%\n"
    }
   },
   "outputs": [],
   "source": [
    "from sklearn import datasets, tree, ensemble\n",
    "from sklearn.model_selection import cross_val_score"
   ]
  },
  {
   "cell_type": "code",
   "execution_count": 13,
   "metadata": {
    "pycharm": {
     "name": "#%%\n"
    }
   },
   "outputs": [],
   "source": [
    "cancer = datasets.load_breast_cancer()"
   ]
  },
  {
   "cell_type": "markdown",
   "metadata": {
    "pycharm": {
     "name": "#%% md\n"
    }
   },
   "source": [
    "For each depth in $1, \\dots, 5$, I instantiated an AdaBoost classifier with the base learner set to be a decision tree of that depth (set `n_estimators=10` and `learning_rate=1`), and then I recorded the 10-fold cross-validated error on the entire breast cancer data set. I plotted the resulting curve of accuracy against base classifier depth."
   ]
  },
  {
   "cell_type": "code",
   "execution_count": 14,
   "metadata": {
    "pycharm": {
     "name": "#%%\n"
    }
   },
   "outputs": [],
   "source": [
    "depth_accuracy = []\n",
    "\n",
    "for depth in range(5):\n",
    "    dt_clf = tree.DecisionTreeClassifier(max_depth= depth+1, random_state = 101) # set random_state = 101\n",
    "    ada_clf = ensemble.AdaBoostClassifier(base_estimator= dt_clf, n_estimators= 10, learning_rate= 1, random_state= 101) # wrap adaboost on the decision tree classifier to see how accuracy is improved (or not). set random_state = 101\n",
    "    cv_acc = cross_val_score(ada_clf, cancer.data, cancer.target, cv= 10)\n",
    "    depth_accuracy.append(np.mean(cv_acc))"
   ]
  },
  {
   "cell_type": "code",
   "execution_count": 15,
   "outputs": [
    {
     "data": {
      "text/plain": "Text(0, 0.5, 'Accuracy')"
     },
     "execution_count": 15,
     "metadata": {},
     "output_type": "execute_result"
    },
    {
     "data": {
      "text/plain": "<Figure size 864x576 with 1 Axes>",
      "image/png": "[encoded data removed]"
     },
     "metadata": {
      "needs_background": "light"
     },
     "output_type": "display_data"
    }
   ],
   "source": [
    "plt.figure(figsize = FIGSIZE)\n",
    "plt.plot(range(1, 6), depth_accuracy)\n",
    "\n",
    "plt.xticks(range(1,6))\n",
    "plt.title(\"Figure 2. AdaBoost classifier wrapped on decision tree classifier.\")\n",
    "plt.xlabel(\"Tree depth level\")\n",
    "plt.ylabel(\"Accuracy\")"
   ],
   "metadata": {
    "collapsed": false,
    "pycharm": {
     "name": "#%%\n"
    }
   }
  }
 ],
 "metadata": {
  "colab": {
   "name": "hw2_programming_sol.ipynb",
   "provenance": [],
   "version": "0.3.2"
  },
  "kernelspec": {
   "display_name": "Python 3",
   "language": "python",
   "name": "python3"
  },
  "language_info": {
   "codemirror_mode": {
    "name": "ipython",
    "version": 3
   },
   "file_extension": ".py",
   "mimetype": "text/x-python",
   "name": "python",
   "nbconvert_exporter": "python",
   "pygments_lexer": "ipython3",
   "version": "3.8.5"
  }
 },
 "nbformat": 4,
 "nbformat_minor": 1
}